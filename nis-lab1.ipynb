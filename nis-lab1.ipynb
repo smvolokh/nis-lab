{
  "nbformat": 4,
  "nbformat_minor": 0,
  "metadata": {
    "accelerator": "GPU",
    "colab": {
      "name": "ВолохСемен_Лаб1_v2_final).ipynb",
      "provenance": [],
      "collapsed_sections": []
    },
    "kernelspec": {
      "display_name": "Python 3",
      "language": "python",
      "name": "python3"
    },
    "language_info": {
      "codemirror_mode": {
        "name": "ipython",
        "version": 3
      },
      "file_extension": ".py",
      "mimetype": "text/x-python",
      "name": "python",
      "nbconvert_exporter": "python",
      "pygments_lexer": "ipython3",
      "version": "3.8.5"
    }
  },
  "cells": [
    {
      "cell_type": "code",
      "metadata": {
        "colab": {
          "base_uri": "https://localhost:8080/"
        },
        "id": "eEGdYzlU4SmG",
        "outputId": "09930c1a-b6e0-4327-dbf6-9aaeb8bed05b"
      },
      "source": [
        "import numpy as np\n",
        "import networkx as nx\n",
        "import time\n",
        "%matplotlib notebook\n",
        "import matplotlib.pyplot as plt\n",
        "%pylab inline\n",
        "import sys\n",
        "sys.setrecursionlimit(30000)"
      ],
      "execution_count": 3,
      "outputs": [
        {
          "output_type": "stream",
          "text": [
            "Populating the interactive namespace from numpy and matplotlib\n"
          ],
          "name": "stdout"
        }
      ]
    },
    {
      "cell_type": "markdown",
      "metadata": {
        "id": "sD1wC1Wc4YHf"
      },
      "source": [
        "## Генераторы графов"
      ]
    },
    {
      "cell_type": "code",
      "metadata": {
        "id": "grFeMbi25Zi3"
      },
      "source": [
        "# функция возвращает случайный простой граф в моделе Gnp \n",
        "# вероятность ребра p = 2*m/(n*(n-1)), чтобы среденее число ребер было = m\n",
        "# структура хранения - список смежности, реализованный через словарь (хеш-таблица) списков \n",
        "# ребра представляют собой tuple двух вершин\n",
        "def get_random_simple_Gnp_graph(n, m, seed=45):\n",
        "    \n",
        "    edge_p = 2*m/(n*(n-1))\n",
        "    g = nx.random_graphs.fast_gnp_random_graph(n,edge_p,seed)\n",
        "  \n",
        "    return nx.convert.to_dict_of_lists(g)"
      ],
      "execution_count": 4,
      "outputs": []
    },
    {
      "cell_type": "code",
      "metadata": {
        "id": "ENCnp0CN-veo"
      },
      "source": [
        "# функция возвращает случайный ориентированный граф в моделе Gnp \n",
        "# вероятность ребра p = m/(n*(n-1)), чтобы среденее число ребер было = m\n",
        "# структура хранения - список смежности, реализованный через словарь (хеш-таблица) списков \n",
        "# ребра представляют собой tuple двух вершин\n",
        "def get_random_Gnp_digraph(n, m, seed=42):\n",
        "    edge_p = m/(n*(n-1))\n",
        "    g = nx.random_graphs.fast_gnp_random_graph(n,edge_p,seed,True)\n",
        "\n",
        "    return nx.convert.to_dict_of_lists(g)"
      ],
      "execution_count": 5,
      "outputs": []
    },
    {
      "cell_type": "code",
      "metadata": {
        "id": "RT_M3XlFLMnS"
      },
      "source": [
        "# функция возвращает случайный простой граф в моделе Gnm \n",
        "# структура хранения - список смежности, реализованный через словарь (хеш-таблица) списков \n",
        "# ребра представляют собой tuple двух вершин\n",
        "def get_random_simple_Gnm_graph(n, m, seed=42):\n",
        "    g = nx.random_graphs.gnm_random_graph(n,m,seed)\n",
        "\n",
        "    return nx.convert.to_dict_of_lists(g)"
      ],
      "execution_count": 6,
      "outputs": []
    },
    {
      "cell_type": "code",
      "metadata": {
        "id": "6bTLnJy9LiwE"
      },
      "source": [
        "# функция возвращает случайный ориентированный граф в моделе Gnm\n",
        "# структура хранения - список смежности, реализованный через словарь (хеш-таблица) списков \n",
        "# ребра представляют собой tuple двух вершин\n",
        "def get_random_Gnm_digraph(n, m, seed=42):\n",
        "    g = nx.random_graphs.gnm_random_graph(n,m,seed,True)\n",
        "\n",
        "    return nx.convert.to_dict_of_lists(g)"
      ],
      "execution_count": 7,
      "outputs": []
    },
    {
      "cell_type": "code",
      "metadata": {
        "id": "qXpwNkSmUvPN"
      },
      "source": [
        "# функция возвращает связный ориентированный Ейлеров граф\n",
        "# в графе n вершин, k - параметр, от которого зависти генерация\n",
        "# структура хранения - список смежности, реализованный через словарь (хеш-таблица) списков \n",
        "# ребра представляют собой tuple двух вершин\n",
        "def get_Euler_digraph(n, k=8):\n",
        "    in_degs, out_degs = [k]*n, [k]*n \n",
        "    G = nx.generators.directed_havel_hakimi_graph(in_degs, out_degs)\n",
        "    WCCs = list(nx.algorithms.components.weakly_connected_components(G))\n",
        "    if len(WCCs) > 1:\n",
        "        connecting_nodes = []\n",
        "        for WCC in WCCs:\n",
        "            some_vertex_of_WCC = next(iter(WCC))\n",
        "            connecting_nodes.append(some_vertex_of_WCC)\n",
        "        for i in range(1, len(connecting_nodes)):\n",
        "            G.add_edge(connecting_nodes[i-1],connecting_nodes[i])\n",
        "            G.add_edge(connecting_nodes[i],connecting_nodes[i-1])\n",
        "    \n",
        "    return nx.convert.to_dict_of_lists(G)"
      ],
      "execution_count": 8,
      "outputs": []
    },
    {
      "cell_type": "code",
      "metadata": {
        "id": "jlCdHUkLCrUj"
      },
      "source": [
        "# утилитарная функция, переводящая таплы вида (1, 0, 0, 1)\n",
        "# в числа, интерпетируя эту запись как число в двоичной записи\n",
        "# эта функция нужна для следующей функции\n",
        "def get_index_from_binary(tup):\n",
        "    n = len(tup)\n",
        "    mult = 1\n",
        "    res = 0\n",
        "    for i in range(n):\n",
        "        res += tup[i]*mult\n",
        "        mult *= 2\n",
        "    return res\n",
        "\n",
        "# функция возвращает связный ориентированный регулярный Ейлеров граф\n",
        "# входные и выходные степени всех вершин совпадают и равны half_dim\n",
        "# число вершин равно 4**half_dim\n",
        "# структура хранения - список смежности, реализованный через словарь (хеш-таблица) списков \n",
        "# ребра представляют собой tuple двух вершин\n",
        "def get_hypercube_digraph(half_dim):\n",
        "    G = nx.generators.hypercube_graph(half_dim*2)\n",
        "    directed_G = nx.DiGraph()\n",
        "    Euler_circuit_G = nx.algorithms.eulerian_circuit(G)\n",
        "    for (u,v) in Euler_circuit_G:\n",
        "        directed_G.add_edge(get_index_from_binary(u), get_index_from_binary(v))\n",
        "    return nx.convert.to_dict_of_lists(directed_G)"
      ],
      "execution_count": 9,
      "outputs": []
    },
    {
      "cell_type": "markdown",
      "metadata": {
        "id": "iVqQjVxgfnzk"
      },
      "source": [
        "#Алгоритмы сортировки"
      ]
    },
    {
      "cell_type": "code",
      "metadata": {
        "id": "lfxzEQsYfs-C"
      },
      "source": [
        "# поразрядная сортировка\n",
        "# возвращает итоговую перестановку эелементов массива A\n",
        "# для того, чтобы можно было переставить элементы в любом другом массиве\\\n",
        "\n",
        "\n",
        "# as default, 64 bit number divides on 4 parts of 16 bit\n",
        "def radix_argsort(weights, divide_for=4):\n",
        "    num_of_bits_per_iter = int(64 / divide_for)\n",
        "    if len(weights) == 0:\n",
        "        alpha = np.uint64(0)\n",
        "    else:\n",
        "        alpha = max(weights)[0]\n",
        "\n",
        "    max_2byte = 0\n",
        "\n",
        "    while (alpha >> np.uint64(max_2byte * num_of_bits_per_iter)):\n",
        "        max_2byte += 1\n",
        "\n",
        "    copy = weights\n",
        "    for num in range(max_2byte):\n",
        "        copy = counting_sort(copy, num_of_bits_per_iter, num)\n",
        "    return copy\n",
        "\n",
        "\n",
        "def counting_sort(array, bits, iter):\n",
        "    C = [0 for i in range(2**bits)]\n",
        "    R = [0 for i in range(len(array))]\n",
        "\n",
        "    mask = np.uint64(2**bits - 1)\n",
        "\n",
        "    length = len(array)\n",
        "\n",
        "    for i in range(length):\n",
        "        C[(np.uint64(array[i][0]) >> np.uint64(iter * bits)) & mask] += 1\n",
        "\n",
        "    for i in range(1, len(C)):\n",
        "        C[i] += C[i - 1]\n",
        "\n",
        "    for i in range(length):\n",
        "        C[(np.uint64(array[i][0]) >> np.uint64(iter * bits)) & mask] -= 1\n",
        "        R[C[(np.uint64(array[i][0]) >> np.uint64(iter * bits))\n",
        "            & mask]] = array[i]\n",
        "\n",
        "    return R"
      ],
      "execution_count": 10,
      "outputs": []
    },
    {
      "cell_type": "code",
      "metadata": {
        "id": "kaW51gQBf99y"
      },
      "source": [
        "# карманная сортировка\n",
        "# возвращает итоговую перестановку эелементов массива A\n",
        "# для того, чтобы можно было переставить элементы в любом другом массиве\n",
        "def bucket_argsort(labels):\n",
        "    n = len(labels)\n",
        "    if (n == 0):\n",
        "        return\n",
        "    maximum = max(labels)[0]\n",
        "    bucket = [[] for i in range(n)]\n",
        "    bucket_range = maximum / n\n",
        "\n",
        "    for i in range(n):\n",
        "        if (labels[i][0] == 0):\n",
        "            bucket_index = 0\n",
        "        else:\n",
        "            bucket_index = (int)(labels[i][0] / bucket_range)\n",
        "        if bucket_index != n:\n",
        "            bucket[bucket_index].append(labels[i])\n",
        "        else:\n",
        "            bucket[bucket_index - 1].append(labels[i])\n",
        "\n",
        "    for i in range(len(bucket)):\n",
        "        bucket[i] = insertion_argsort(bucket[i])\n",
        "    index = 0\n",
        "    R = [0 for i in range(n)]\n",
        "    for i in range(n):\n",
        "        for j in range(len(bucket[i])):\n",
        "            R[index] = bucket[i][j]\n",
        "            index += 1\n",
        "    return R"
      ],
      "execution_count": 11,
      "outputs": []
    },
    {
      "cell_type": "code",
      "metadata": {
        "id": "6yZvVqyufssn"
      },
      "source": [
        "# быстрая сортировка\n",
        "from random import randint\n",
        "\n",
        "\n",
        "def quick_argsort(labels, low, high):\n",
        "    while (high - low >= 200):\n",
        "        part = partition(labels, low, high)  # index\n",
        "        if (part - low <= high - pi - 1):  # choose the least part\n",
        "            quickSort(labels, low, part - 1)\n",
        "            low = part + 1\n",
        "        else:\n",
        "            quickSort(labels, part + 1, high)\n",
        "            high = part\n",
        "    insertion_argsort(labels)\n",
        "\n",
        "\n",
        "def partition(labels, low, high):\n",
        "    i = low - 1\n",
        "    rand_index = randint(low, high)  # random elem lambda\n",
        "    alpha = labels[rand_index]  #lambda\n",
        "\n",
        "    for k in range(low, high):\n",
        "        if (labels[k] < alpha):  # lower part\n",
        "            i += 1\n",
        "            labels[i], labels[k] = labels[k], labels[i]\n",
        "        elif (labels[k] == alpha):  # equal part\n",
        "            i += 1\n",
        "            labels[i], labels[k] = labels[k], labels[i]\n",
        "\n",
        "    labels[i + 1], labels[rand_index] = labels[rand_index], labels[i + 1]\n",
        "    return i + 1\n",
        "\n",
        "\n",
        "def insertion_argsort(labels):\n",
        "    for i in range(1, len(labels)):\n",
        "        temp = labels[i]\n",
        "        j = i - 1\n",
        "        while j >= 0 and labels[j] > temp:\n",
        "            labels[j + 1] = labels[j]\n",
        "            j -= 1\n",
        "        labels[j + 1] = temp\n",
        "    return labels"
      ],
      "execution_count": 12,
      "outputs": []
    },
    {
      "cell_type": "markdown",
      "metadata": {
        "id": "-2qavQiBBFv7"
      },
      "source": [
        "#Алгоритмы для поиска мостов"
      ]
    },
    {
      "cell_type": "code",
      "metadata": {
        "id": "3CssyQPh_L2i"
      },
      "source": [
        "# детерминированный алгоритм для поиска мостов\n",
        "# на вход поступает граф представленный списком смежности\n",
        "# саписок представлен как словарь(хеш-таблица) списков\n",
        "# выход представляет собой список ребер, являющихся мостами \n",
        "class dfs_bridges:\n",
        "    def __init__(self, Graph):\n",
        "        self.Graph = Graph\n",
        "        self.color = [\"white\" for i in range(len(Graph))]\n",
        "        self.tin = [np.inf for i in range(len(Graph))]\n",
        "        self.low = [np.inf for i in range(len(Graph))]\n",
        "        self.one_bridges = []\n",
        "        self.timer = 0\n",
        "        \n",
        "    def dfs(self, graph, v, p = -1):\n",
        "        self.color[v] = \"gray\"\n",
        "        self.tin[v]=self.low[v] = self.timer\n",
        "        self.timer += 1\n",
        "        for u in list(self.Graph[v]):\n",
        "            if (u == p):\n",
        "                continue\n",
        "            if (self.color[u] == \"white\"):\n",
        "                self.dfs(graph, u, v)\n",
        "                self.low[v] = min(self.low[v], self.low[u])\n",
        "                if (self.low[u] > self.tin[v]):\n",
        "                    if (u > v):\n",
        "                        self.one_bridges.append( (v, u) )\n",
        "                    else:\n",
        "                        self.one_bridges.append( (u, v) )   \n",
        "            else:\n",
        "                self.low[v] = min(self.low[v], self.tin[u])\n",
        "        self.color[v] = \"black\"\n",
        "            \n",
        "def compute_bridges_determ(adj_list):\n",
        "    test = dfs_bridges(adj_list)\n",
        "    for i in range(len(test.Graph)):\n",
        "        if (test.color[i] == \"white\"):\n",
        "            test.dfs(test.Graph, i)\n",
        "    return set(test.one_bridges)"
      ],
      "execution_count": 13,
      "outputs": []
    },
    {
      "cell_type": "code",
      "metadata": {
        "id": "Xvir7yfyfsso"
      },
      "source": [
        "def draw_grapgh(G):\n",
        "    G = nx.Graph(G)\n",
        "    pos = nx.spring_layout(G)\n",
        "    nx.draw(G,pos)\n",
        "    nx.draw_networkx_labels(G,pos,font_color='white',font_weight='bold')\n",
        "    plt.draw()\n",
        "    plt.show()\n",
        "    return"
      ],
      "execution_count": 14,
      "outputs": []
    },
    {
      "cell_type": "code",
      "metadata": {
        "id": "bwuVGx16C0J6"
      },
      "source": [
        "import random\n",
        "# рандомизированный алгоритм для поиска мостов\n",
        "# на вход поступает граф представленный списком смежности\n",
        "# саписок представлен как словарь(хеш-таблица) списков \n",
        "# выход представляет собой список ребер, являющихся мостами с большой вероятностью\n",
        "# Randomized Bridge Search\n",
        "class random_bridges:\n",
        "    def __init__(self, Graph):\n",
        "        self.G = nx.Graph(Graph)\n",
        "        self.visited = ['white' for i in range(len(Graph))] \n",
        "        self.stack = []\n",
        "        self.labeled_edge_list = []\n",
        "        self.bit = 64\n",
        "    \n",
        "    def rand_dfs(self, v):\n",
        "        self.visited[v] = 'gray'\n",
        "        self.stack.append(v)\n",
        "        \n",
        "        for u in list(self.G.adj[v].keys()):\n",
        "            if (self.visited[u] == 'white'):\n",
        "                self.G[v][u]['label'] = 'ostov'\n",
        "                self.rand_dfs(u)\n",
        "            elif self.visited[u] == 'gray' and (len(self.stack) == 1 or u != self.stack[-2]):\n",
        "                if 'weight' not in self.G[v][u]:\n",
        "                    self.G[v][u]['weight'] = random.getrandbits(self.bit)\n",
        "                    if (u > v):\n",
        "                        self.labeled_edge_list.append([self.G[v][u]['weight'],\n",
        "                                                      (v,u)])\n",
        "                    else:\n",
        "                        self.labeled_edge_list.append([self.G[v][u]['weight'],\n",
        "                                                      (u,v)])\n",
        "        self.stack.pop()\n",
        "        self.visited[v] = 'black'\n",
        "        u_weight = np.uint64(0)\n",
        "                   \n",
        "        if (len(self.stack) != 0):\n",
        "            for t in list(self.G.adj[v].keys()):\n",
        "                if 'weight' in self.G[v][t]:\n",
        "                    u_weight = u_weight ^ np.uint64(self.G[v][t]['weight'])\n",
        "            self.G[v][self.stack[-1]]['weight'] = u_weight\n",
        "            if (v > self.stack[-1]):\n",
        "                self.labeled_edge_list.append([u_weight, (self.stack[-1]\n",
        "                                                          , v)])\n",
        "            else:\n",
        "                self.labeled_edge_list.append([u_weight, (v\n",
        "                                                          , self.stack[-1])])\n",
        "            \n",
        "                \n",
        "            \n",
        "        \n",
        "        \n",
        "def compute_bridges_rand(G):\n",
        "    rds = random_bridges(G)\n",
        "    for i in range(len(G)):\n",
        "        if (rds.visited[i] == 'white'):\n",
        "            rds.rand_dfs(i)\n",
        "    bridges = []\n",
        "    for item in rds.labeled_edge_list:\n",
        "        if (item[0] == 0):\n",
        "            bridges.append(item[1])\n",
        "        \n",
        "    return bridges\n",
        "    "
      ],
      "execution_count": 15,
      "outputs": []
    },
    {
      "cell_type": "code",
      "metadata": {
        "id": "Bimj4itwJ0NR"
      },
      "source": [
        "# рандомизированный алгоритм для поиска 2-мостов\n",
        "#\n",
        "# на вход поступает граф представленный списком смежности и алгоритм сортировки для меток на ребрах\n",
        "# саписок представлен как словарь(хеш-таблица) списков\n",
        "#\n",
        "# выходом алгоритма является список списков ребер\n",
        "# в каждом списке любая пара ребер должна с высокой вероятностью образовывать 2-мост\n",
        "# например, если выходом является спискок [[e1, e2, e3],[e4, e5]]\n",
        "# то с высокой вероятностью 2-мостами будут пары ребер: (e1,e2), (e1,e3), (e2,e3), (e4,e5)\n",
        "# ребра здесь это пары вершин типа e1 = (1,2)\n",
        "def compute_1bridges(G):\n",
        "    rds = random_bridges(G)\n",
        "    for i in range(len(G)):\n",
        "        if (rds.visited[i] == 'white'):\n",
        "            rds.rand_dfs(i)\n",
        "    return rds.labeled_edge_list\n",
        "\n",
        "\n",
        "def compute_2bridges_rand(G, sort):\n",
        "    labels = compute_1bridges(G)\n",
        "    result = None\n",
        "    if (sort == bucket_argsort):\n",
        "        result = sort(labels)\n",
        "    if (sort == radix_argsort):\n",
        "        result = sort(labels)\n",
        "    if (sort == quick_argsort):\n",
        "        result = sort(labels, 0, len(labels))\n",
        "    only_bridges = []\n",
        "    if (result == None):\n",
        "        return [[]]\n",
        "    else:\n",
        "        for i in range(len(result) - 1):\n",
        "            if (result[i][0] == result[i + 1][0]):\n",
        "                only_bridges.append([(result[i][1], result[i + 1][1])])\n",
        "        return only_bridges"
      ],
      "execution_count": 16,
      "outputs": []
    },
    {
      "cell_type": "markdown",
      "metadata": {
        "id": "9a0jhn8IUcSF"
      },
      "source": [
        "#Эйлеровы циклы"
      ]
    },
    {
      "cell_type": "code",
      "metadata": {
        "code_folding": [],
        "id": "dCtrqokbUmvf"
      },
      "source": [
        " def compute_Euler_circuit_digraph(adj_list):\n",
        "        euler = euler_path(adj_list)\n",
        "        euler.find_euler_path()\n",
        "        return list(reversed(euler.euler_path))\n",
        "    \n",
        "        \n",
        "class euler_path:\n",
        "    def __init__(self, graph):\n",
        "        self.graph = nx.DiGraph(graph)\n",
        "        self.euler_path = []\n",
        "        self.stack = []\n",
        "\n",
        "    def find_euler_path(self, v = 0):\n",
        "        self.stack.append(v) # add to stack initial vertex\n",
        "        last_visited_vertex = None # last visited vertex (at first None)\n",
        "        while len(self.stack) != 0: \n",
        "            curr_vertex = self.stack[-1] # top of the stack\n",
        "            if len(list(self.graph.adj[curr_vertex])) == 0: # if degree of vertex is 0\n",
        "                if (last_visited_vertex is not None): # if it is not the first vertex\n",
        "                    self.euler_path.append((curr_vertex, last_visited_vertex)) # add edge to euler path\n",
        "              # delete vertex from stack and replace last visited vertex\n",
        "                last_visited_vertex = curr_vertex \n",
        "                self.stack.pop()\n",
        "            else: # if there is some adjacent vertexes (degree > 0)\n",
        "                next_vertex = random.choice(list(self.graph.adj[curr_vertex])) # pick one of them\n",
        "                self.stack.append(next_vertex) # push to the stack\n",
        "                self.graph.remove_edge(curr_vertex, next_vertex) # delete this edge (~ delete vertex from list)"
      ],
      "execution_count": 17,
      "outputs": []
    },
    {
      "cell_type": "markdown",
      "metadata": {
        "id": "YayReqtzNMN8"
      },
      "source": [
        "# Арифметика в конечных кольцах и полях"
      ]
    },
    {
      "cell_type": "code",
      "metadata": {
        "id": "lmhOvc-rNS0c"
      },
      "source": [
        "# эта функция инвертирует x в Zp с помощью алгоритма Евклида\n",
        "# выходом является целое число y, такое что\n",
        "# 1) 0 < y < p \n",
        "# 2) (xy) mod p = 1 \n",
        "# если число невозможно инвертировать, функция возвращает 0\n",
        "def gcd_extended(a, b):\n",
        "    if a == 0:\n",
        "        return (b, 0, 1)\n",
        "    else:\n",
        "        div, x, y = gcd_extended(b % a, a)\n",
        "    return (div, y - (b // a) * x, x)\n",
        "\n",
        "\n",
        "def invert_in_Zp_Euclead(p,x):\n",
        "    #a*x + m*y = 1 // a = 322 m = 2347\n",
        "    div,z,y = gcd_extended(x, p)\n",
        "    if (div != 1):\n",
        "        return 0\n",
        "    else:\n",
        "        return (z%p + p) % p"
      ],
      "execution_count": 18,
      "outputs": []
    },
    {
      "cell_type": "code",
      "metadata": {
        "id": "e5XLlM4oOGcY"
      },
      "source": [
        "# эта функция инвертирует x в Zp с помощью малой теоремы Ферма и алгоритма быстрого возведения в степень\n",
        "# выходом является целое число y, такое что\n",
        "# 1) 0 < y < p \n",
        "# 2) (xy) mod p = 1 \n",
        "# если число невозможно инвертировать, функция возвращает 0\n",
        "def binpow(a, n):\n",
        "    if (n == 0):\n",
        "        return 1\n",
        "    if (n % 2 == 1):\n",
        "        return binpow(a, n-1) * a\n",
        "    else:\n",
        "        b = binpow(a, n/2)\n",
        "        return b*b\n",
        "    \n",
        "    \n",
        "def gcd_simple(x,y):\n",
        "    if (x == 0 or y == 0):\n",
        "        return y\n",
        "    return gcd_simple(y % x, x)\n",
        "\n",
        "\n",
        "def invert_in_Zp_Ferma(p,x):\n",
        "    if (gcd_simple(p, x) != 1):\n",
        "        return 0\n",
        "    return (binpow(x, p-2))%p"
      ],
      "execution_count": 19,
      "outputs": []
    },
    {
      "cell_type": "markdown",
      "metadata": {
        "id": "cC_5grG8GX1k"
      },
      "source": [
        "#Стресс тесты"
      ]
    },
    {
      "cell_type": "code",
      "metadata": {
        "id": "M2uTC7okGdcs"
      },
      "source": [
        "def stress_test_bridges_determ(n, m, iterations_num=1000):\n",
        "    for i in range(iterations_num):\n",
        "        G = get_random_simple_Gnp_graph(n, m, i)\n",
        "        briges_test = compute_bridges_determ(G)\n",
        "        bridges_true = set(nx.algorithms.bridges(nx.Graph(G)))\n",
        "        diff = list(bridges_true.symmetric_difference(briges_test))\n",
        "        if len(diff) > 0:\n",
        "            raise Exception(\n",
        "                f\"Неверное решение в детерминированном алгоритме поиска мостов, n: {n}, m: {m}, seed: {i}\"\n",
        "            )\n",
        "    print(\n",
        "        f\"Стресс тест для детерминированного поиска мостов пройден!, n: {n}, m: {m}, iterations_num: {iterations_num}\"\n",
        "    )"
      ],
      "execution_count": 20,
      "outputs": []
    },
    {
      "cell_type": "code",
      "metadata": {
        "id": "GZL4RLYiPAds"
      },
      "source": [
        "def stress_test_bridges_rand(n, m, iterations_num=1000):\n",
        "    exp_err = m * (1 / (2**64))\n",
        "    for i in range(iterations_num):\n",
        "        G = get_random_simple_Gnp_graph(n, m, i)\n",
        "        briges_test = sorted(compute_bridges_rand(G))\n",
        "        bridges_true = set(sorted(nx.algorithms.bridges(nx.Graph(G))))\n",
        "        diff = list(bridges_true.symmetric_difference(briges_test))\n",
        "        if len(diff) > exp_err:\n",
        "            raise Exception(\n",
        "                f\"Число ошибок в рандомизированном алгоритме поиска мостов превышено, n: {n}, m: {m}, errors_num: {len(diff)}, seed: {i}\"\n",
        "            )\n",
        "    print(\n",
        "        f\"Стресс тест для рандомизированного поиска мостов пройден!, n: {n}, m: {m}, iterations_num: {iterations_num}\"\n",
        "    )"
      ],
      "execution_count": 21,
      "outputs": []
    },
    {
      "cell_type": "code",
      "metadata": {
        "id": "LKOqFG31Nfje"
      },
      "source": [
        "def stress_test_finite_fields(p=2**61 - 1, iterations_num=100000):\n",
        "    for i in range(iterations_num):\n",
        "        x = numpy.random.randint(1, p)\n",
        "        inverse_Euclead_x = invert_in_Zp_Euclead(p, x)\n",
        "        inverse_Ferma_x = invert_in_Zp_Ferma(p, x)\n",
        "        if (np.gcd(p, x) == 1):\n",
        "            if (x * inverse_Euclead_x - 1) % p != 0:\n",
        "                raise Exception(\n",
        "                    f\"Неправильное инвертирование алгоритмом Евклида, p: {p}, x: {x}\"\n",
        "                )\n",
        "            if (x * inverse_Ferma_x - 1) % p != 0:\n",
        "                raise Exception(\n",
        "                    f\"Неправильное инвертирование алгоритмом быстрого возведения в степень, p: {p}, x: {x}\"\n",
        "                )\n",
        "        else:\n",
        "            if inverse_Euclead_x != 0:\n",
        "                raise Exception(\n",
        "                    f\"Неправильное инвертирование алгоритмом Евклида, p: {p}, x: {x}\"\n",
        "                )\n",
        "            if inverse_Ferma_x != 0:\n",
        "                raise Exception(\n",
        "                    f\"Неправильное инвертирование алгоритмом быстрого возведения в степень, p: {p}, x: {x}\"\n",
        "                )\n",
        "    print(\n",
        "        f\"Стресс тест для арифметики в конечных полях пройден!, p: {p}, iterations_num: {iterations_num}\"\n",
        "    )"
      ],
      "execution_count": 22,
      "outputs": []
    },
    {
      "cell_type": "code",
      "metadata": {
        "id": "fwa1LtushrLG"
      },
      "source": [
        "def stress_test_2bridges_rand(n, m, sort, iterations_num=1000):\n",
        "    exp_err = (m * (m - 1) / 2) * (1 / (2**64))\n",
        "    for iteration in range(iterations_num):\n",
        "        err_num = 0\n",
        "        G = nx.Graph(get_random_simple_Gnp_graph(n, m, iteration))\n",
        "        bridges_test = compute_2bridges_rand(G, sort)\n",
        "        for edge_group in bridges_test:\n",
        "            for e1 in range(len(edge_group)):\n",
        "                for e2 in range(e1 + 1, len(edge_group)):\n",
        "                    G_with_deleted_2bridge = G.copy()\n",
        "                    G_with_deleted_2bridge.remove_edge(*edge_group[e1])\n",
        "                    G_with_deleted_2bridge.remove_edge(*edge_group[e2])\n",
        "                    if nx.connected.number_connected_components(\n",
        "                            G) == nx.connected.number_connected_components(\n",
        "                                G_with_deleted_2bridge):\n",
        "                        ++err_num\n",
        "        if err_num > exp_err:\n",
        "            raise Exception(\n",
        "                f\"Число ошибок в рандомизированном алгоритме поиска мостов превышено, n: {n}, m: {m}, errors_num: {err_num}, sort: {sort}, seed: {iteration}\"\n",
        "            )\n",
        "    print(\n",
        "        f\"Стресс тест для рандомизированного поиска 2-мостов пройден!, n: {n}, m: {m}, , sort: {sort}, iterations_num: {iterations_num}\"\n",
        "    )"
      ],
      "execution_count": 23,
      "outputs": []
    },
    {
      "cell_type": "code",
      "metadata": {
        "id": "krNafNhmKdeF"
      },
      "source": [
        "def test_Euler_circuit(G, test_circuit):\n",
        "    edges_dict = {}\n",
        "    m = 0\n",
        "    for (v, neib) in G.items():\n",
        "        for u in neib:\n",
        "            edges_dict[(v, u)] = False\n",
        "            m += 1\n",
        "\n",
        "    l = len(test_circuit)\n",
        "    if m != l:\n",
        "        return False\n",
        "\n",
        "    for i in range(1, m):\n",
        "        if test_circuit[i - 1][1] != test_circuit[i][0]:\n",
        "            return False\n",
        "    if test_circuit[l - 1][1] != test_circuit[0][0]:\n",
        "        return False\n",
        "\n",
        "    for e in test_circuit:\n",
        "        if edges_dict.get(e, True) == True:\n",
        "            return False\n",
        "        else:\n",
        "            edges_dict[e] = True\n",
        "\n",
        "    return True\n",
        "\n",
        "\n",
        "# max_n должно быть строго больше чем 10\n",
        "def stress_test_Euler_circuit_digraph(max_n, iterations_num=1000):\n",
        "    for iteration in range(iterations_num):\n",
        "        n = np.random.randint(10, max_n)\n",
        "        k = np.floor(n / 4)\n",
        "        G = get_Euler_digraph(n, k)\n",
        "        test_circuit = compute_Euler_circuit_digraph(G)\n",
        "        if not test_Euler_circuit(G, test_circuit):\n",
        "            raise Exception(\n",
        "                f\"Неправильный Эйлеров обход, функция генерации: get_Euler_digraph, n: {n}, k: {k}\"\n",
        "            )\n",
        "    print(\n",
        "        f\"Стресс тест для ориентированных Эйлеровых циклов пройден, max_n: {max_n}, iterations_num: {iterations_num}\"\n",
        "    )"
      ],
      "execution_count": 24,
      "outputs": []
    },
    {
      "cell_type": "markdown",
      "metadata": {
        "id": "inG0HaBNfssu"
      },
      "source": [
        " # Стресс тесты"
      ]
    },
    {
      "cell_type": "code",
      "metadata": {
        "colab": {
          "base_uri": "https://localhost:8080/"
        },
        "id": "uV_3TcJIy-Hd",
        "outputId": "1c2c20ce-d14b-4323-9cba-f610ce7bce5c"
      },
      "source": [
        "stress_test_Euler_circuit_digraph(10000, 10)"
      ],
      "execution_count": null,
      "outputs": [
        {
          "output_type": "stream",
          "text": [
            "Стресс тест для ориентированных Эйлеровых циклов пройден, max_n: 10000, iterations_num: 10\n"
          ],
          "name": "stdout"
        }
      ]
    },
    {
      "cell_type": "code",
      "metadata": {
        "colab": {
          "base_uri": "https://localhost:8080/"
        },
        "id": "uJvi4ayZbheW",
        "scrolled": true,
        "outputId": "33cf5ab9-5609-4f0e-d653-4416af656b47"
      },
      "source": [
        "stress_test_bridges_determ(1000000,400000,10) #100 30 100\n",
        "stress_test_bridges_rand(1000000,400000,10)\n",
        "stress_test_finite_fields(2347, 1000)\n",
        "stress_test_2bridges_rand(1000000,400000,radix_argsort,10)# 100 30 radix_argsort, 10\n",
        "stress_test_2bridges_rand(1000000,400000,bucket_argsort,10)\n",
        "stress_test_2bridges_rand(1000000,400000,quick_argsort,10)"
      ],
      "execution_count": null,
      "outputs": [
        {
          "output_type": "stream",
          "text": [
            "Стресс тест для детерминированного поиска мостов пройден!, n: 1000000, m: 400000, iterations_num: 10\n",
            "Стресс тест для рандомизированного поиска мостов пройден!, n: 1000000, m: 400000, iterations_num: 10\n",
            "Стресс тест для арифметики в конечных полях пройден!, p: 2347, iterations_num: 1000\n",
            "Стресс тест для рандомизированного поиска 2-мостов пройден!, n: 1000000, m: 400000, , sort: <function radix_argsort at 0x7f15a2764560>, iterations_num: 10\n",
            "Стресс тест для рандомизированного поиска 2-мостов пройден!, n: 1000000, m: 400000, , sort: <function bucket_argsort at 0x7f15a22c8950>, iterations_num: 10\n",
            "Стресс тест для рандомизированного поиска 2-мостов пройден!, n: 1000000, m: 400000, , sort: <function quick_argsort at 0x7f15a22c8050>, iterations_num: 10\n"
          ],
          "name": "stdout"
        }
      ]
    },
    {
      "cell_type": "markdown",
      "metadata": {
        "id": "IFrOCtsGYI9L"
      },
      "source": [
        "# Юнит тесты"
      ]
    },
    {
      "cell_type": "code",
      "metadata": {
        "id": "fMi57s_vXG3a"
      },
      "source": [
        "def finite_fields_unit_tests():\n",
        "    assert (invert_in_Zp_Euclead(6, 4) == 0)\n",
        "    assert (invert_in_Zp_Ferma(6, 4) == 0)\n",
        "\n",
        "    assert (invert_in_Zp_Euclead(6, 2) == 0)\n",
        "    assert (invert_in_Zp_Ferma(6, 2) == 0)\n",
        "\n",
        "    assert (invert_in_Zp_Euclead(2347, 0) == 0)\n",
        "    assert (invert_in_Zp_Ferma(2347, 0) == 0)\n",
        "\n",
        "    assert (invert_in_Zp_Euclead(7, 6) == 6)\n",
        "    assert (invert_in_Zp_Ferma(7, 6) == 6)\n",
        "\n",
        "    assert (invert_in_Zp_Euclead(2347, 2346) == 2346)\n",
        "    assert (invert_in_Zp_Ferma(2347, 2346) == 2346)\n",
        "\n",
        "    assert (invert_in_Zp_Euclead(1, 0) == 0)\n",
        "    assert (invert_in_Zp_Ferma(1, 0) == 0)\n",
        "\n",
        "    assert (invert_in_Zp_Euclead(2, 0) == 0)\n",
        "    assert (invert_in_Zp_Ferma(2, 0) == 0)\n",
        "\n",
        "    assert (invert_in_Zp_Euclead(2, 1) == 1)\n",
        "    assert (invert_in_Zp_Ferma(2, 1) == 1)"
      ],
      "execution_count": 25,
      "outputs": []
    },
    {
      "cell_type": "code",
      "metadata": {
        "id": "WerEDsxjE6Am"
      },
      "source": [
        "def bridges_unit_test(G):\n",
        "    test_bridges_determ = compute_bridges_determ(\n",
        "        nx.convert.to_dict_of_lists(G))\n",
        "    test_bridges_rand = compute_bridges_rand(nx.convert.to_dict_of_lists(G))\n",
        "    true_bridges = set(nx.algorithms.bridges(nx.Graph(G)))\n",
        "    determ_diff = list(true_bridges.symmetric_difference(test_bridges_determ))\n",
        "    rand_diff = list(true_bridges.symmetric_difference(test_bridges_rand))\n",
        "    assert len(determ_diff) == 0\n",
        "    assert len(rand_diff) == 0"
      ],
      "execution_count": 26,
      "outputs": []
    },
    {
      "cell_type": "code",
      "metadata": {
        "id": "dqHC-TYKMWZ-"
      },
      "source": [
        "def two_bridges_unit_test(G, sort_fun):\n",
        "    test_bridges = compute_2bridges_rand(nx.convert.to_dict_of_lists(G),\n",
        "                                         sort_fun)\n",
        "    for edge_group in test_bridges:\n",
        "        for e1 in range(len(edge_group)):\n",
        "            for e2 in range(e1 + 1, len(edge_group)):\n",
        "                G_with_deleted_2bridge = G.copy()\n",
        "                G_with_deleted_2bridge.remove_edge(*edge_group[e1])\n",
        "                G_with_deleted_2bridge.remove_edge(*edge_group[e2])\n",
        "                assert nx.connected.number_connected_components(\n",
        "                    G) < nx.connected.number_connected_components(\n",
        "                        G_with_deleted_2bridge)"
      ],
      "execution_count": 27,
      "outputs": []
    },
    {
      "cell_type": "code",
      "metadata": {
        "id": "LunUdpLHGBtJ"
      },
      "source": [
        "def Euler_circuit_unit_tests():\n",
        "    dims = [1, 2, 3, 4]  # 5,6 cause crash\n",
        "    for dim in dims:\n",
        "        G = get_hypercube_digraph(dim)\n",
        "        test_circuit = compute_Euler_circuit_digraph(G)\n",
        "        assert (test_Euler_circuit(G, test_circuit))"
      ],
      "execution_count": 28,
      "outputs": []
    },
    {
      "cell_type": "code",
      "metadata": {
        "colab": {
          "base_uri": "https://localhost:8080/"
        },
        "id": "WRb-MJf9b0p6",
        "outputId": "134a46ac-69e6-4ac4-82b8-d5ff706140c4"
      },
      "source": [
        "finite_fields_unit_tests()\n",
        "print(\"Все юнит тесты для арифметики в коенчных полях пройдены успешно!\")\n",
        "\n",
        "bridges_unit_test(nx.generators.cycle_graph(10))\n",
        "bridges_unit_test(nx.generators.path_graph(10))\n",
        "bridges_unit_test(nx.generators.empty_graph(10))\n",
        "bridges_unit_test(nx.generators.star_graph(10))\n",
        "bridges_unit_test(nx.generators.trivial_graph())\n",
        "bridges_unit_test(nx.generators.balanced_tree(3, 3))\n",
        "print(\"Все юнит тесты для поиска мостов пройдены успешно!\")\n",
        "\n",
        "sort_functions = [radix_argsort, bucket_argsort, quick_argsort\n",
        "                  ]  # [radix_argsort, bucket_argsort, quick_argsort]\n",
        "for sort_fun in sort_functions:\n",
        "    two_bridges_unit_test(nx.generators.cycle_graph(10), sort_fun)\n",
        "    two_bridges_unit_test(nx.generators.path_graph(10), sort_fun)\n",
        "    two_bridges_unit_test(nx.generators.empty_graph(10), sort_fun)\n",
        "    two_bridges_unit_test(nx.generators.star_graph(10), sort_fun)\n",
        "    two_bridges_unit_test(nx.generators.trivial_graph(), sort_fun)\n",
        "    two_bridges_unit_test(nx.generators.balanced_tree(3, 3), sort_fun)\n",
        "print(\"Все юнит тесты для поиска 2-мостов пройдены успешно!\")\n",
        "\n",
        "Euler_circuit_unit_tests()\n",
        "print(\"Все юнит тесты для поиска Эйлеровых циклов пройдены успешно!\")"
      ],
      "execution_count": 29,
      "outputs": [
        {
          "output_type": "stream",
          "text": [
            "Все юнит тесты для арифметики в коенчных полях пройдены успешно!\n",
            "Все юнит тесты для поиска мостов пройдены успешно!\n",
            "Все юнит тесты для поиска 2-мостов пройдены успешно!\n",
            "Все юнит тесты для поиска Эйлеровых циклов пройдены успешно!\n"
          ],
          "name": "stdout"
        }
      ]
    },
    {
      "cell_type": "markdown",
      "metadata": {
        "id": "OaHIW1b_ad02"
      },
      "source": [
        "# Графики"
      ]
    },
    {
      "cell_type": "code",
      "metadata": {
        "id": "Wu6eiPL1dZt1"
      },
      "source": [
        "def check_time(f, *args):\n",
        "    start = time.time()\n",
        "    f(*args)\n",
        "    return time.time() - start"
      ],
      "execution_count": 30,
      "outputs": []
    },
    {
      "cell_type": "code",
      "metadata": {
        "id": "QT3suSXzXIcR"
      },
      "source": [
        "def plot_bridges(m_fun, start = 500, step = 1500, end = 15000, number_of_retryes = 10):\n",
        "    \n",
        "    \n",
        "    _x, determ_Gnp_y, determ_Gnm_y, rand_Gnp_y, rand_Gnm_y = [], [], [], [], []\n",
        "    for n in range(start,end,step):\n",
        "        #print(n)\n",
        "        m = m_fun(n)\n",
        "        time_Gnp_determ = 0.\n",
        "        time_Gnp_rand = 0.\n",
        "        time_Gnm_determ = 0.\n",
        "        time_Gnm_rand = 0.\n",
        "        for exp_num in range(number_of_retryes):\n",
        "            g = get_random_simple_Gnp_graph(n,m,exp_num)\n",
        "            time_Gnp_determ += check_time(compute_bridges_determ, g)\n",
        "            time_Gnp_rand += check_time(compute_bridges_rand, g)\n",
        "            g = get_random_simple_Gnm_graph(n,m,exp_num)\n",
        "            time_Gnm_determ += check_time(compute_bridges_determ, g)\n",
        "            time_Gnm_rand += check_time(compute_bridges_rand, g)\n",
        "        time_Gnp_determ /= number_of_retryes\n",
        "        time_Gnp_rand /= number_of_retryes\n",
        "        time_Gnm_determ /= number_of_retryes\n",
        "        time_Gnm_rand /= number_of_retryes\n",
        "        _x.append(n)\n",
        "        determ_Gnp_y.append(time_Gnp_determ)\n",
        "        rand_Gnp_y.append(time_Gnp_rand)\n",
        "        determ_Gnm_y.append(time_Gnm_determ)\n",
        "        rand_Gnm_y.append(time_Gnm_rand)\n",
        "\n",
        "    plt.plot(_x, determ_Gnp_y, label = \"determ Gnp\")\n",
        "    plt.plot(_x, rand_Gnp_y, label = \"rand Gnp\")\n",
        "    plt.plot(_x, determ_Gnm_y, label = \"determ Gnm\")\n",
        "    plt.plot(_x, rand_Gnm_y, label = \"rand Gnm\")\n",
        "    plt.legend(bbox_to_anchor=(1.05, 1), loc='upper left', borderaxespad=0.)\n",
        "    plt.xlabel('number of vertices')\n",
        "    plt.ylabel('time s.')\n",
        "    plt.title(f\"Эксперименты с мостами, start: {start}, step: {step}, end: {end},\\n \\\n",
        "    number of retryes: {number_of_retryes}, edges density: {n/m}\")\n",
        "    #plt.figure(figsize= (1000,1000))\n",
        "    plt.show()"
      ],
      "execution_count": 31,
      "outputs": []
    },
    {
      "cell_type": "code",
      "metadata": {
        "id": "ph0V_04lfXNi"
      },
      "source": [
        "def plot_2bridges(m_fun,\n",
        "                  start=500,\n",
        "                  step=1500,\n",
        "                  end=30000,\n",
        "                  number_of_retryes=10):\n",
        "    _x = []\n",
        "    quick_Gnp, radix_Gnp, bucket_Gnp, standard_Gnp = [], [], [], []\n",
        "    quick_Gnm, radix_Gnm, bucket_Gnm, standard_Gnm = [], [], [], []\n",
        "\n",
        "    for n in range(start, end, step):\n",
        "        m = m_fun(n)\n",
        "        time_quick_Gnp, time_radix_Gnp, time_bucket_Gnp, time_standard_Gnp = 0., 0., 0., 0.\n",
        "        time_quick_Gnm, time_radix_Gnm, time_bucket_Gnm, time_standard_Gnm = 0., 0., 0., 0.\n",
        "\n",
        "        for exp_num in range(number_of_retryes):\n",
        "            g = get_random_simple_Gnp_graph(n, m, exp_num)\n",
        "            time_quick_Gnp += check_time(compute_2bridges_rand, g,\n",
        "                                         quick_argsort)\n",
        "            time_bucket_Gnp += check_time(compute_2bridges_rand, g,\n",
        "                                          bucket_argsort)\n",
        "            time_radix_Gnp += check_time(compute_2bridges_rand, g,\n",
        "                                         radix_argsort)\n",
        "            time_standard_Gnp += check_time(compute_2bridges_rand, g,\n",
        "                                            np.argsort)\n",
        "\n",
        "            g = get_random_simple_Gnm_graph(n, m, exp_num)\n",
        "            time_quick_Gnm += check_time(compute_2bridges_rand, g,\n",
        "                                         quick_argsort)\n",
        "            time_bucket_Gnm += check_time(compute_2bridges_rand, g,\n",
        "                                          bucket_argsort)\n",
        "            time_radix_Gnm += check_time(compute_2bridges_rand, g,\n",
        "                                         radix_argsort)\n",
        "            time_standard_Gnm += check_time(compute_2bridges_rand, g,\n",
        "                                            np.argsort)\n",
        "\n",
        "        time_quick_Gnp /= number_of_retryes\n",
        "        time_bucket_Gnp /= number_of_retryes\n",
        "        time_radix_Gnp /= number_of_retryes\n",
        "        time_standard_Gnp /= number_of_retryes\n",
        "\n",
        "        time_quick_Gnm /= number_of_retryes\n",
        "        time_bucket_Gnm /= number_of_retryes\n",
        "        time_radix_Gnm /= number_of_retryes\n",
        "        time_standard_Gnm /= number_of_retryes\n",
        "\n",
        "        _x.append(n)\n",
        "\n",
        "        quick_Gnp.append(time_quick_Gnp)\n",
        "        bucket_Gnp.append(time_bucket_Gnp)\n",
        "        radix_Gnp.append(time_radix_Gnp)\n",
        "        standard_Gnp.append(time_standard_Gnp)\n",
        "\n",
        "        quick_Gnm.append(time_quick_Gnm)\n",
        "        bucket_Gnm.append(time_bucket_Gnm)\n",
        "        radix_Gnm.append(time_radix_Gnm)\n",
        "        standard_Gnm.append(time_standard_Gnm)\n",
        "\n",
        "    plt.plot(_x, quick_Gnp, label=\"quick Gnp\")\n",
        "    plt.plot(_x, bucket_Gnp, label=\"bucket Gnp\")\n",
        "    plt.plot(_x, radix_Gnp, label=\"radix Gnp\")\n",
        "    plt.plot(_x, standard_Gnp, label=\"standard Gnp\")\n",
        "\n",
        "    plt.plot(_x, quick_Gnm, label=\"quick Gnm\")\n",
        "    plt.plot(_x, bucket_Gnm, label=\"bucket Gnm\")\n",
        "    plt.plot(_x, radix_Gnm, label=\"radix Gnm\")\n",
        "    plt.plot(_x, standard_Gnm, label=\"standard Gnm\")\n",
        "\n",
        "    plt.legend(bbox_to_anchor=(1.05, 1), loc='upper left', borderaxespad=0.)\n",
        "    plt.xlabel('number of vertices')\n",
        "    plt.ylabel('time s.')\n",
        "    plt.title(\n",
        "        f\"Эксперименты с 2-мостами, start: {start}, step: {step}, end: {end},\\n \\\n",
        "  number of retryes: {number_of_retryes}, edges density: {n/m}\")\n",
        "    #plt.figure(figsize= (100000,100000))\n",
        "    plt.show()"
      ],
      "execution_count": 36,
      "outputs": []
    },
    {
      "cell_type": "code",
      "metadata": {
        "colab": {
          "base_uri": "https://localhost:8080/",
          "height": 327
        },
        "id": "s1qohsHKgPOy",
        "outputId": "04d62c2e-e789-440d-b002-57e88c5a4ff4"
      },
      "source": [
        "print(f\"Total time: {check_time(plot_bridges, lambda n: n**(3/10))}\")"
      ],
      "execution_count": 33,
      "outputs": [
        {
          "output_type": "display_data",
          "data": {
            "image/png": "[encoded data removed]",
            "text/plain": [
              "<Figure size 432x288 with 1 Axes>"
            ]
          },
          "metadata": {
            "tags": [],
            "needs_background": "light"
          }
        },
        {
          "output_type": "stream",
          "text": [
            "Total time: 14.635659217834473\n"
          ],
          "name": "stdout"
        }
      ]
    },
    {
      "cell_type": "code",
      "metadata": {
        "colab": {
          "base_uri": "https://localhost:8080/",
          "height": 327
        },
        "id": "Gfr1Eq-y46S4",
        "outputId": "5ac5863d-07f7-4532-ce6a-0f7003aaef16"
      },
      "source": [
        "print(f\"Total time: {check_time(plot_bridges, lambda n: n)}\")"
      ],
      "execution_count": 34,
      "outputs": [
        {
          "output_type": "display_data",
          "data": {
            "image/png": "[encoded data removed]",
            "text/plain": [
              "<Figure size 432x288 with 1 Axes>"
            ]
          },
          "metadata": {
            "tags": [],
            "needs_background": "light"
          }
        },
        {
          "output_type": "stream",
          "text": [
            "Total time: 54.73671293258667\n"
          ],
          "name": "stdout"
        }
      ]
    },
    {
      "cell_type": "code",
      "metadata": {
        "colab": {
          "base_uri": "https://localhost:8080/",
          "height": 327
        },
        "id": "GX8GB9QF7GDO",
        "outputId": "03ba6ab1-8616-4f0b-8af0-c493cfc86cfe"
      },
      "source": [
        "print(f\"Total time: {check_time(plot_bridges, lambda n: 10*n)}\")"
      ],
      "execution_count": 35,
      "outputs": [
        {
          "output_type": "display_data",
          "data": {
            "image/png": "[encoded data removed]",
            "text/plain": [
              "<Figure size 432x288 with 1 Axes>"
            ]
          },
          "metadata": {
            "tags": [],
            "needs_background": "light"
          }
        },
        {
          "output_type": "stream",
          "text": [
            "Total time: 388.995299577713\n"
          ],
          "name": "stdout"
        }
      ]
    },
    {
      "cell_type": "code",
      "metadata": {
        "colab": {
          "base_uri": "https://localhost:8080/",
          "height": 327
        },
        "id": "76072Rr5oKlC",
        "outputId": "dd0e69f8-269f-4c97-e971-f1a0f6f6fabd"
      },
      "source": [
        "print(f\"Total time: {check_time(plot_2bridges, lambda n: n**(3/10))}\")"
      ],
      "execution_count": null,
      "outputs": [
        {
          "output_type": "display_data",
          "data": {
            "image/png": "[encoded data removed]",
            "text/plain": [
              "<Figure size 432x288 with 1 Axes>"
            ]
          },
          "metadata": {
            "tags": [],
            "needs_background": "light"
          }
        },
        {
          "output_type": "stream",
          "text": [
            "Total time: 148.5253348350525\n"
          ],
          "name": "stdout"
        }
      ]
    },
    {
      "cell_type": "code",
      "metadata": {
        "colab": {
          "base_uri": "https://localhost:8080/",
          "height": 327
        },
        "id": "9hw4gDCZ9nW_",
        "outputId": "a5631519-d266-4e7a-9b0a-1067731dfff6"
      },
      "source": [
        "print(f\"Total time: {check_time(plot_2bridges, lambda n: n)}\")"
      ],
      "execution_count": null,
      "outputs": [
        {
          "output_type": "display_data",
          "data": {
            "image/png": "[encoded data removed]",
            "text/plain": [
              "<Figure size 432x288 with 1 Axes>"
            ]
          },
          "metadata": {
            "tags": [],
            "needs_background": "light"
          }
        },
        {
          "output_type": "stream",
          "text": [
            "Total time: 777.8805260658264\n"
          ],
          "name": "stdout"
        }
      ]
    }
  ]
}